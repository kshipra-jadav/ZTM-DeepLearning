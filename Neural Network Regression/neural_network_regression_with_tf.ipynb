{
 "cells": [
  {
   "cell_type": "markdown",
   "metadata": {},
   "source": [
    "# Introduction To Regression With Neural Networks in TensorFlow"
   ]
  },
  {
   "cell_type": "code",
   "execution_count": 1,
   "metadata": {},
   "outputs": [
    {
     "data": {
      "text/plain": [
       "'2.10.0'"
      ]
     },
     "execution_count": 1,
     "metadata": {},
     "output_type": "execute_result"
    }
   ],
   "source": [
    "import tensorflow as tf\n",
    "\n",
    "tf.__version__"
   ]
  },
  {
   "cell_type": "markdown",
   "metadata": {},
   "source": [
    "## Creating The Data and Features"
   ]
  },
  {
   "cell_type": "code",
   "execution_count": 2,
   "metadata": {},
   "outputs": [],
   "source": [
    "import numpy as np\n",
    "import matplotlib.pyplot as plt"
   ]
  },
  {
   "cell_type": "code",
   "execution_count": 3,
   "metadata": {},
   "outputs": [
    {
     "data": {
      "text/plain": [
       "<matplotlib.collections.PathCollection at 0x295c9b09990>"
      ]
     },
     "execution_count": 3,
     "metadata": {},
     "output_type": "execute_result"
    },
    {
     "data": {
      "image/png": "[encoded data removed]",
      "text/plain": [
       "<Figure size 640x480 with 1 Axes>"
      ]
     },
     "metadata": {},
     "output_type": "display_data"
    }
   ],
   "source": [
    "# Creating the data\n",
    "X = np.array([-7.0, -4.0, -1.0, 2.0, 5.0, 8.0, 11.0, 14.0])\n",
    "\n",
    "# Creating the labels\n",
    "y = np.array([3.0, 6.0, 9.0, 12.0, 15.0, 18.0, 21.0, 24.0])\n",
    "\n",
    "# Plotting the thing\n",
    "plt.scatter(X, y)"
   ]
  },
  {
   "cell_type": "code",
   "execution_count": 4,
   "metadata": {},
   "outputs": [
    {
     "data": {
      "text/plain": [
       "(<tf.Tensor: shape=(8,), dtype=float64, numpy=array([-7., -4., -1.,  2.,  5.,  8., 11., 14.])>,\n",
       " <tf.Tensor: shape=(8,), dtype=float64, numpy=array([ 3.,  6.,  9., 12., 15., 18., 21., 24.])>)"
      ]
     },
     "execution_count": 4,
     "metadata": {},
     "output_type": "execute_result"
    }
   ],
   "source": [
    "# Turning np arrays to tensors\n",
    "\n",
    "X = tf.constant(X)\n",
    "y = tf.constant(y)\n",
    "\n",
    "X, y"
   ]
  },
  {
   "cell_type": "code",
   "execution_count": 5,
   "metadata": {},
   "outputs": [
    {
     "data": {
      "text/plain": [
       "(TensorShape([]), TensorShape([]))"
      ]
     },
     "execution_count": 5,
     "metadata": {},
     "output_type": "execute_result"
    }
   ],
   "source": [
    "inputShape = X[0].shape\n",
    "outputShape = y[0].shape\n",
    "\n",
    "inputShape, outputShape"
   ]
  },
  {
   "cell_type": "markdown",
   "metadata": {},
   "source": [
    "## Steps In modelling with TensorFlow\n",
    "\n",
    "1. **Creating A Model** :-\n",
    "    - define the input and output laters\n",
    "    - define the hidden layers\n",
    "2. **Compiling A Model** :- \n",
    "    - define the loss function (the function which tells our model how wrong it is)\n",
    "    - define the optimizer (the function which tells our model how to improve the patterns it's larning)\n",
    "    - evaluation metrics (what we can use to interpret the performacne of our model)\n",
    "3. **Fitting A Model** :-\n",
    "    - letting the model to try and find patterns between `X` and `y` or (features and labels)_"
   ]
  },
  {
   "cell_type": "code",
   "execution_count": 6,
   "metadata": {},
   "outputs": [
    {
     "name": "stdout",
     "output_type": "stream",
     "text": [
      "Epoch 1/5\n",
      "1/1 [==============================] - 1s 613ms/step - loss: 12.3561 - mae: 12.3561\n",
      "Epoch 2/5\n",
      "1/1 [==============================] - 0s 5ms/step - loss: 12.2236 - mae: 12.2236\n",
      "Epoch 3/5\n",
      "1/1 [==============================] - 0s 7ms/step - loss: 12.0911 - mae: 12.0911\n",
      "Epoch 4/5\n",
      "1/1 [==============================] - 0s 7ms/step - loss: 11.9586 - mae: 11.9586\n",
      "Epoch 5/5\n",
      "1/1 [==============================] - 0s 7ms/step - loss: 11.8261 - mae: 11.8261\n"
     ]
    },
    {
     "data": {
      "text/plain": [
       "<keras.callbacks.History at 0x295ccf61e70>"
      ]
     },
     "execution_count": 6,
     "metadata": {},
     "output_type": "execute_result"
    }
   ],
   "source": [
    "# Setting the random seed\n",
    "tf.random.set_seed(38)\n",
    "\n",
    "# 1. Creating a model using the Sequential API\n",
    "model = tf.keras.Sequential([\n",
    "  tf.keras.layers.Dense(1)\n",
    "])\n",
    "\n",
    "# 2. Compiling the model\n",
    "model.compile(\n",
    "  loss=tf.keras.losses.mae, # mean absolute error\n",
    "  optimizer=tf.keras.optimizers.SGD(), # schocastic gradient descent\n",
    "  metrics=['mae']\n",
    ")\n",
    "\n",
    "# 3. Fitting the model\n",
    "model.fit(tf.expand_dims(X, axis=-1), y, epochs=5)"
   ]
  },
  {
   "cell_type": "code",
   "execution_count": 7,
   "metadata": {},
   "outputs": [
    {
     "data": {
      "text/plain": [
       "(<tf.Tensor: shape=(8,), dtype=float64, numpy=array([-7., -4., -1.,  2.,  5.,  8., 11., 14.])>,\n",
       " <tf.Tensor: shape=(8,), dtype=float64, numpy=array([ 3.,  6.,  9., 12., 15., 18., 21., 24.])>)"
      ]
     },
     "execution_count": 7,
     "metadata": {},
     "output_type": "execute_result"
    }
   ],
   "source": [
    "# Relationship between X and y is y = X + 10\n",
    "\n",
    "X, y"
   ]
  },
  {
   "cell_type": "code",
   "execution_count": 8,
   "metadata": {},
   "outputs": [
    {
     "name": "stdout",
     "output_type": "stream",
     "text": [
      "1/1 [==============================] - 0s 166ms/step\n"
     ]
    },
    {
     "data": {
      "text/plain": [
       "array([[8.581147]], dtype=float32)"
      ]
     },
     "execution_count": 8,
     "metadata": {},
     "output_type": "execute_result"
    }
   ],
   "source": [
    "# Predicting the values\n",
    "model.predict([17.0])"
   ]
  },
  {
   "cell_type": "markdown",
   "metadata": {},
   "source": [
    "## Improving Our Model\n",
    "\n",
    "The steps that we can follow to improve our model and it's predictions are :- \n",
    "1. **Creating the model** - \n",
    "    - Increase the number of layers\n",
    "    - Increase the number of hidden units (also called neurons) within the hidden layers\n",
    "    - change the activation function of each layer\n",
    "2. **Compiling the model** -\n",
    "    - changing the optimization function\n",
    "    - changing the learning rate of the model\n",
    "3. **Fitting the model** - \n",
    "    - change the number of epochs (fitting the data for longer time)\n",
    "    - give the model more data to train on\n"
   ]
  },
  {
   "cell_type": "code",
   "execution_count": 9,
   "metadata": {},
   "outputs": [
    {
     "name": "stdout",
     "output_type": "stream",
     "text": [
      "Epoch 1/100\n",
      "1/1 [==============================] - 0s 386ms/step - loss: 12.2010 - mae: 12.2010\n",
      "Epoch 2/100\n",
      "1/1 [==============================] - 0s 5ms/step - loss: 12.0685 - mae: 12.0685\n",
      "Epoch 3/100\n",
      "1/1 [==============================] - 0s 11ms/step - loss: 11.9360 - mae: 11.9360\n",
      "Epoch 4/100\n",
      "1/1 [==============================] - 0s 9ms/step - loss: 11.8035 - mae: 11.8035\n",
      "Epoch 5/100\n",
      "1/1 [==============================] - 0s 7ms/step - loss: 11.6710 - mae: 11.6710\n",
      "Epoch 6/100\n",
      "1/1 [==============================] - 0s 9ms/step - loss: 11.5385 - mae: 11.5385\n",
      "Epoch 7/100\n",
      "1/1 [==============================] - 0s 8ms/step - loss: 11.4060 - mae: 11.4060\n",
      "Epoch 8/100\n",
      "1/1 [==============================] - 0s 7ms/step - loss: 11.2735 - mae: 11.2735\n",
      "Epoch 9/100\n",
      "1/1 [==============================] - 0s 8ms/step - loss: 11.1410 - mae: 11.1410\n",
      "Epoch 10/100\n",
      "1/1 [==============================] - 0s 7ms/step - loss: 11.0085 - mae: 11.0085\n",
      "Epoch 11/100\n",
      "1/1 [==============================] - 0s 8ms/step - loss: 10.8760 - mae: 10.8760\n",
      "Epoch 12/100\n",
      "1/1 [==============================] - 0s 7ms/step - loss: 10.7435 - mae: 10.7435\n",
      "Epoch 13/100\n",
      "1/1 [==============================] - 0s 8ms/step - loss: 10.6110 - mae: 10.6110\n",
      "Epoch 14/100\n",
      "1/1 [==============================] - 0s 6ms/step - loss: 10.4785 - mae: 10.4785\n",
      "Epoch 15/100\n",
      "1/1 [==============================] - 0s 7ms/step - loss: 10.3460 - mae: 10.3460\n",
      "Epoch 16/100\n",
      "1/1 [==============================] - 0s 7ms/step - loss: 10.2135 - mae: 10.2135\n",
      "Epoch 17/100\n",
      "1/1 [==============================] - 0s 7ms/step - loss: 10.0810 - mae: 10.0810\n",
      "Epoch 18/100\n",
      "1/1 [==============================] - 0s 7ms/step - loss: 9.9485 - mae: 9.9485\n",
      "Epoch 19/100\n",
      "1/1 [==============================] - 0s 4ms/step - loss: 9.8160 - mae: 9.8160\n",
      "Epoch 20/100\n",
      "1/1 [==============================] - 0s 8ms/step - loss: 9.6835 - mae: 9.6835\n",
      "Epoch 21/100\n",
      "1/1 [==============================] - 0s 5ms/step - loss: 9.5510 - mae: 9.5510\n",
      "Epoch 22/100\n",
      "1/1 [==============================] - 0s 6ms/step - loss: 9.4185 - mae: 9.4185\n",
      "Epoch 23/100\n",
      "1/1 [==============================] - 0s 5ms/step - loss: 9.2860 - mae: 9.2860\n",
      "Epoch 24/100\n",
      "1/1 [==============================] - 0s 6ms/step - loss: 9.1535 - mae: 9.1535\n",
      "Epoch 25/100\n",
      "1/1 [==============================] - 0s 5ms/step - loss: 9.0210 - mae: 9.0210\n",
      "Epoch 26/100\n",
      "1/1 [==============================] - 0s 11ms/step - loss: 8.8885 - mae: 8.8885\n",
      "Epoch 27/100\n",
      "1/1 [==============================] - 0s 6ms/step - loss: 8.7560 - mae: 8.7560\n",
      "Epoch 28/100\n",
      "1/1 [==============================] - 0s 6ms/step - loss: 8.6235 - mae: 8.6235\n",
      "Epoch 29/100\n",
      "1/1 [==============================] - 0s 6ms/step - loss: 8.4910 - mae: 8.4910\n",
      "Epoch 30/100\n",
      "1/1 [==============================] - 0s 5ms/step - loss: 8.3585 - mae: 8.3585\n",
      "Epoch 31/100\n",
      "1/1 [==============================] - 0s 5ms/step - loss: 8.2260 - mae: 8.2260\n",
      "Epoch 32/100\n",
      "1/1 [==============================] - 0s 6ms/step - loss: 8.0935 - mae: 8.0935\n",
      "Epoch 33/100\n",
      "1/1 [==============================] - 0s 4ms/step - loss: 7.9610 - mae: 7.9610\n",
      "Epoch 34/100\n",
      "1/1 [==============================] - 0s 4ms/step - loss: 7.8285 - mae: 7.8285\n",
      "Epoch 35/100\n",
      "1/1 [==============================] - 0s 5ms/step - loss: 7.6960 - mae: 7.6960\n",
      "Epoch 36/100\n",
      "1/1 [==============================] - 0s 6ms/step - loss: 7.5635 - mae: 7.5635\n",
      "Epoch 37/100\n",
      "1/1 [==============================] - 0s 6ms/step - loss: 7.4310 - mae: 7.4310\n",
      "Epoch 38/100\n",
      "1/1 [==============================] - 0s 5ms/step - loss: 7.2985 - mae: 7.2985\n",
      "Epoch 39/100\n",
      "1/1 [==============================] - 0s 6ms/step - loss: 7.2150 - mae: 7.2150\n",
      "Epoch 40/100\n",
      "1/1 [==============================] - 0s 5ms/step - loss: 7.2094 - mae: 7.2094\n",
      "Epoch 41/100\n",
      "1/1 [==============================] - 0s 5ms/step - loss: 7.2038 - mae: 7.2038\n",
      "Epoch 42/100\n",
      "1/1 [==============================] - 0s 6ms/step - loss: 7.1981 - mae: 7.1981\n",
      "Epoch 43/100\n",
      "1/1 [==============================] - 0s 6ms/step - loss: 7.1925 - mae: 7.1925\n",
      "Epoch 44/100\n",
      "1/1 [==============================] - 0s 6ms/step - loss: 7.1869 - mae: 7.1869\n",
      "Epoch 45/100\n",
      "1/1 [==============================] - 0s 5ms/step - loss: 7.1813 - mae: 7.1813\n",
      "Epoch 46/100\n",
      "1/1 [==============================] - 0s 4ms/step - loss: 7.1756 - mae: 7.1756\n",
      "Epoch 47/100\n",
      "1/1 [==============================] - 0s 4ms/step - loss: 7.1700 - mae: 7.1700\n",
      "Epoch 48/100\n",
      "1/1 [==============================] - 0s 5ms/step - loss: 7.1644 - mae: 7.1644\n",
      "Epoch 49/100\n",
      "1/1 [==============================] - 0s 5ms/step - loss: 7.1588 - mae: 7.1588\n",
      "Epoch 50/100\n",
      "1/1 [==============================] - 0s 5ms/step - loss: 7.1531 - mae: 7.1531\n",
      "Epoch 51/100\n",
      "1/1 [==============================] - 0s 5ms/step - loss: 7.1475 - mae: 7.1475\n",
      "Epoch 52/100\n",
      "1/1 [==============================] - 0s 4ms/step - loss: 7.1419 - mae: 7.1419\n",
      "Epoch 53/100\n",
      "1/1 [==============================] - 0s 4ms/step - loss: 7.1363 - mae: 7.1363\n",
      "Epoch 54/100\n",
      "1/1 [==============================] - 0s 6ms/step - loss: 7.1306 - mae: 7.1306\n",
      "Epoch 55/100\n",
      "1/1 [==============================] - 0s 6ms/step - loss: 7.1250 - mae: 7.1250\n",
      "Epoch 56/100\n",
      "1/1 [==============================] - 0s 5ms/step - loss: 7.1194 - mae: 7.1194\n",
      "Epoch 57/100\n",
      "1/1 [==============================] - 0s 4ms/step - loss: 7.1138 - mae: 7.1138\n",
      "Epoch 58/100\n",
      "1/1 [==============================] - 0s 5ms/step - loss: 7.1081 - mae: 7.1081\n",
      "Epoch 59/100\n",
      "1/1 [==============================] - 0s 4ms/step - loss: 7.1025 - mae: 7.1025\n",
      "Epoch 60/100\n",
      "1/1 [==============================] - 0s 4ms/step - loss: 7.0969 - mae: 7.0969\n",
      "Epoch 61/100\n",
      "1/1 [==============================] - 0s 3ms/step - loss: 7.0912 - mae: 7.0912\n",
      "Epoch 62/100\n",
      "1/1 [==============================] - 0s 5ms/step - loss: 7.0856 - mae: 7.0856\n",
      "Epoch 63/100\n",
      "1/1 [==============================] - 0s 5ms/step - loss: 7.0800 - mae: 7.0800\n",
      "Epoch 64/100\n",
      "1/1 [==============================] - 0s 6ms/step - loss: 7.0744 - mae: 7.0744\n",
      "Epoch 65/100\n",
      "1/1 [==============================] - 0s 5ms/step - loss: 7.0688 - mae: 7.0688\n",
      "Epoch 66/100\n",
      "1/1 [==============================] - 0s 6ms/step - loss: 7.0631 - mae: 7.0631\n",
      "Epoch 67/100\n",
      "1/1 [==============================] - 0s 5ms/step - loss: 7.0575 - mae: 7.0575\n",
      "Epoch 68/100\n",
      "1/1 [==============================] - 0s 5ms/step - loss: 7.0519 - mae: 7.0519\n",
      "Epoch 69/100\n",
      "1/1 [==============================] - 0s 6ms/step - loss: 7.0463 - mae: 7.0463\n",
      "Epoch 70/100\n",
      "1/1 [==============================] - 0s 4ms/step - loss: 7.0406 - mae: 7.0406\n",
      "Epoch 71/100\n",
      "1/1 [==============================] - 0s 6ms/step - loss: 7.0350 - mae: 7.0350\n",
      "Epoch 72/100\n",
      "1/1 [==============================] - 0s 6ms/step - loss: 7.0294 - mae: 7.0294\n",
      "Epoch 73/100\n",
      "1/1 [==============================] - 0s 7ms/step - loss: 7.0238 - mae: 7.0238\n",
      "Epoch 74/100\n",
      "1/1 [==============================] - 0s 7ms/step - loss: 7.0181 - mae: 7.0181\n",
      "Epoch 75/100\n",
      "1/1 [==============================] - 0s 5ms/step - loss: 7.0125 - mae: 7.0125\n",
      "Epoch 76/100\n",
      "1/1 [==============================] - 0s 7ms/step - loss: 7.0069 - mae: 7.0069\n",
      "Epoch 77/100\n",
      "1/1 [==============================] - 0s 5ms/step - loss: 7.0013 - mae: 7.0013\n",
      "Epoch 78/100\n",
      "1/1 [==============================] - 0s 6ms/step - loss: 6.9956 - mae: 6.9956\n",
      "Epoch 79/100\n",
      "1/1 [==============================] - 0s 5ms/step - loss: 6.9900 - mae: 6.9900\n",
      "Epoch 80/100\n",
      "1/1 [==============================] - 0s 5ms/step - loss: 6.9844 - mae: 6.9844\n",
      "Epoch 81/100\n",
      "1/1 [==============================] - 0s 6ms/step - loss: 6.9788 - mae: 6.9788\n",
      "Epoch 82/100\n",
      "1/1 [==============================] - 0s 5ms/step - loss: 6.9731 - mae: 6.9731\n",
      "Epoch 83/100\n",
      "1/1 [==============================] - 0s 7ms/step - loss: 6.9675 - mae: 6.9675\n",
      "Epoch 84/100\n",
      "1/1 [==============================] - 0s 5ms/step - loss: 6.9619 - mae: 6.9619\n",
      "Epoch 85/100\n",
      "1/1 [==============================] - 0s 6ms/step - loss: 6.9563 - mae: 6.9563\n",
      "Epoch 86/100\n",
      "1/1 [==============================] - 0s 6ms/step - loss: 6.9506 - mae: 6.9506\n",
      "Epoch 87/100\n",
      "1/1 [==============================] - 0s 6ms/step - loss: 6.9450 - mae: 6.9450\n",
      "Epoch 88/100\n",
      "1/1 [==============================] - 0s 8ms/step - loss: 6.9394 - mae: 6.9394\n",
      "Epoch 89/100\n",
      "1/1 [==============================] - 0s 4ms/step - loss: 6.9338 - mae: 6.9338\n",
      "Epoch 90/100\n",
      "1/1 [==============================] - 0s 7ms/step - loss: 6.9281 - mae: 6.9281\n",
      "Epoch 91/100\n",
      "1/1 [==============================] - 0s 6ms/step - loss: 6.9225 - mae: 6.9225\n",
      "Epoch 92/100\n",
      "1/1 [==============================] - 0s 5ms/step - loss: 6.9169 - mae: 6.9169\n",
      "Epoch 93/100\n",
      "1/1 [==============================] - 0s 6ms/step - loss: 6.9113 - mae: 6.9113\n",
      "Epoch 94/100\n",
      "1/1 [==============================] - 0s 4ms/step - loss: 6.9056 - mae: 6.9056\n",
      "Epoch 95/100\n",
      "1/1 [==============================] - 0s 6ms/step - loss: 6.9000 - mae: 6.9000\n",
      "Epoch 96/100\n",
      "1/1 [==============================] - 0s 6ms/step - loss: 6.8944 - mae: 6.8944\n",
      "Epoch 97/100\n",
      "1/1 [==============================] - 0s 5ms/step - loss: 6.8888 - mae: 6.8888\n",
      "Epoch 98/100\n",
      "1/1 [==============================] - 0s 6ms/step - loss: 6.8831 - mae: 6.8831\n",
      "Epoch 99/100\n",
      "1/1 [==============================] - 0s 6ms/step - loss: 6.8775 - mae: 6.8775\n",
      "Epoch 100/100\n",
      "1/1 [==============================] - 0s 7ms/step - loss: 6.8719 - mae: 6.8719\n"
     ]
    },
    {
     "data": {
      "text/plain": [
       "<keras.callbacks.History at 0x295ccff7df0>"
      ]
     },
     "execution_count": 9,
     "metadata": {},
     "output_type": "execute_result"
    }
   ],
   "source": [
    "# Let's rebuild the model. But this time, change the epochs only\n",
    "\n",
    "# 1. Creating the model\n",
    "model = tf.keras.Sequential([\n",
    "  tf.keras.layers.Dense(1)\n",
    "])\n",
    "\n",
    "# 2. Compiling the model\n",
    "model.compile(\n",
    "  optimizer=tf.optimizers.SGD(),\n",
    "  loss=tf.keras.metrics.mae,\n",
    "  metrics=['mae']\n",
    ")\n",
    "\n",
    "# 3. Fitting the model\n",
    "model.fit(tf.expand_dims(X, axis=-1), y, epochs=100)"
   ]
  },
  {
   "cell_type": "code",
   "execution_count": 11,
   "metadata": {},
   "outputs": [
    {
     "name": "stdout",
     "output_type": "stream",
     "text": [
      "1/1 [==============================] - 0s 61ms/step\n"
     ]
    },
    {
     "data": {
      "text/plain": [
       "array([[29.764275]], dtype=float32)"
      ]
     },
     "execution_count": 11,
     "metadata": {},
     "output_type": "execute_result"
    }
   ],
   "source": [
    "# Prediction\n",
    "model.predict([17.0])"
   ]
  },
  {
   "cell_type": "code",
   "execution_count": 12,
   "metadata": {},
   "outputs": [
    {
     "name": "stdout",
     "output_type": "stream",
     "text": [
      "Epoch 1/100\n",
      "1/1 [==============================] - 0s 471ms/step - loss: 14.1780 - mae: 14.1780\n",
      "Epoch 2/100\n",
      "1/1 [==============================] - 0s 6ms/step - loss: 13.6654 - mae: 13.6654\n",
      "Epoch 3/100\n",
      "1/1 [==============================] - 0s 5ms/step - loss: 13.1643 - mae: 13.1643\n",
      "Epoch 4/100\n",
      "1/1 [==============================] - 0s 7ms/step - loss: 12.6692 - mae: 12.6692\n",
      "Epoch 5/100\n",
      "1/1 [==============================] - 0s 7ms/step - loss: 12.1910 - mae: 12.1910\n",
      "Epoch 6/100\n",
      "1/1 [==============================] - 0s 6ms/step - loss: 11.7059 - mae: 11.7059\n",
      "Epoch 7/100\n",
      "1/1 [==============================] - 0s 6ms/step - loss: 11.2068 - mae: 11.2068\n",
      "Epoch 8/100\n",
      "1/1 [==============================] - 0s 5ms/step - loss: 10.6915 - mae: 10.6915\n",
      "Epoch 9/100\n",
      "1/1 [==============================] - 0s 6ms/step - loss: 10.1564 - mae: 10.1564\n",
      "Epoch 10/100\n",
      "1/1 [==============================] - 0s 6ms/step - loss: 9.6005 - mae: 9.6005\n",
      "Epoch 11/100\n",
      "1/1 [==============================] - 0s 8ms/step - loss: 9.0229 - mae: 9.0229\n",
      "Epoch 12/100\n",
      "1/1 [==============================] - 0s 7ms/step - loss: 8.4083 - mae: 8.4083\n",
      "Epoch 13/100\n",
      "1/1 [==============================] - 0s 7ms/step - loss: 7.7509 - mae: 7.7509\n",
      "Epoch 14/100\n",
      "1/1 [==============================] - 0s 8ms/step - loss: 7.0486 - mae: 7.0486\n",
      "Epoch 15/100\n",
      "1/1 [==============================] - 0s 5ms/step - loss: 6.3376 - mae: 6.3376\n",
      "Epoch 16/100\n",
      "1/1 [==============================] - 0s 7ms/step - loss: 5.5656 - mae: 5.5656\n",
      "Epoch 17/100\n",
      "1/1 [==============================] - 0s 8ms/step - loss: 4.7216 - mae: 4.7216\n",
      "Epoch 18/100\n",
      "1/1 [==============================] - 0s 6ms/step - loss: 4.0646 - mae: 4.0646\n",
      "Epoch 19/100\n",
      "1/1 [==============================] - 0s 5ms/step - loss: 3.9698 - mae: 3.9698\n",
      "Epoch 20/100\n",
      "1/1 [==============================] - 0s 6ms/step - loss: 3.8930 - mae: 3.8930\n",
      "Epoch 21/100\n",
      "1/1 [==============================] - 0s 7ms/step - loss: 3.9450 - mae: 3.9450\n",
      "Epoch 22/100\n",
      "1/1 [==============================] - 0s 5ms/step - loss: 3.9000 - mae: 3.9000\n",
      "Epoch 23/100\n",
      "1/1 [==============================] - 0s 6ms/step - loss: 3.9202 - mae: 3.9202\n",
      "Epoch 24/100\n",
      "1/1 [==============================] - 0s 6ms/step - loss: 3.9097 - mae: 3.9097\n",
      "Epoch 25/100\n",
      "1/1 [==============================] - 0s 5ms/step - loss: 3.9015 - mae: 3.9015\n",
      "Epoch 26/100\n",
      "1/1 [==============================] - 0s 4ms/step - loss: 3.9213 - mae: 3.9213\n",
      "Epoch 27/100\n",
      "1/1 [==============================] - 0s 4ms/step - loss: 3.8762 - mae: 3.8762\n",
      "Epoch 28/100\n",
      "1/1 [==============================] - 0s 4ms/step - loss: 3.9286 - mae: 3.9286\n",
      "Epoch 29/100\n",
      "1/1 [==============================] - 0s 5ms/step - loss: 3.8626 - mae: 3.8626\n",
      "Epoch 30/100\n",
      "1/1 [==============================] - 0s 37ms/step - loss: 3.9234 - mae: 3.9234\n",
      "Epoch 31/100\n",
      "1/1 [==============================] - 0s 7ms/step - loss: 3.8697 - mae: 3.8697\n",
      "Epoch 32/100\n",
      "1/1 [==============================] - 0s 5ms/step - loss: 3.8983 - mae: 3.8983\n",
      "Epoch 33/100\n",
      "1/1 [==============================] - 0s 6ms/step - loss: 3.8830 - mae: 3.8830\n",
      "Epoch 34/100\n",
      "1/1 [==============================] - 0s 7ms/step - loss: 3.8793 - mae: 3.8793\n",
      "Epoch 35/100\n",
      "1/1 [==============================] - 0s 5ms/step - loss: 3.8914 - mae: 3.8914\n",
      "Epoch 36/100\n",
      "1/1 [==============================] - 0s 6ms/step - loss: 3.8538 - mae: 3.8538\n",
      "Epoch 37/100\n",
      "1/1 [==============================] - 0s 6ms/step - loss: 3.8989 - mae: 3.8989\n",
      "Epoch 38/100\n",
      "1/1 [==============================] - 0s 6ms/step - loss: 3.8332 - mae: 3.8332\n",
      "Epoch 39/100\n",
      "1/1 [==============================] - 0s 5ms/step - loss: 3.9006 - mae: 3.9006\n",
      "Epoch 40/100\n",
      "1/1 [==============================] - 0s 6ms/step - loss: 3.8406 - mae: 3.8406\n",
      "Epoch 41/100\n",
      "1/1 [==============================] - 0s 5ms/step - loss: 3.8781 - mae: 3.8781\n",
      "Epoch 42/100\n",
      "1/1 [==============================] - 0s 5ms/step - loss: 3.8550 - mae: 3.8550\n",
      "Epoch 43/100\n",
      "1/1 [==============================] - 0s 4ms/step - loss: 3.8559 - mae: 3.8559\n",
      "Epoch 44/100\n",
      "1/1 [==============================] - 0s 5ms/step - loss: 3.8626 - mae: 3.8626\n",
      "Epoch 45/100\n",
      "1/1 [==============================] - 0s 5ms/step - loss: 3.8302 - mae: 3.8302\n",
      "Epoch 46/100\n",
      "1/1 [==============================] - 0s 5ms/step - loss: 3.8703 - mae: 3.8703\n",
      "Epoch 47/100\n",
      "1/1 [==============================] - 0s 4ms/step - loss: 3.8050 - mae: 3.8050\n",
      "Epoch 48/100\n",
      "1/1 [==============================] - 0s 5ms/step - loss: 3.8765 - mae: 3.8765\n",
      "Epoch 49/100\n",
      "1/1 [==============================] - 0s 5ms/step - loss: 3.8126 - mae: 3.8126\n",
      "Epoch 50/100\n",
      "1/1 [==============================] - 0s 5ms/step - loss: 3.8569 - mae: 3.8569\n",
      "Epoch 51/100\n",
      "1/1 [==============================] - 0s 6ms/step - loss: 3.8271 - mae: 3.8271\n",
      "Epoch 52/100\n",
      "1/1 [==============================] - 0s 4ms/step - loss: 3.8312 - mae: 3.8312\n",
      "Epoch 53/100\n",
      "1/1 [==============================] - 0s 5ms/step - loss: 3.8349 - mae: 3.8349\n",
      "Epoch 54/100\n",
      "1/1 [==============================] - 0s 6ms/step - loss: 3.8052 - mae: 3.8052\n",
      "Epoch 55/100\n",
      "1/1 [==============================] - 0s 5ms/step - loss: 3.8428 - mae: 3.8428\n",
      "Epoch 56/100\n",
      "1/1 [==============================] - 0s 5ms/step - loss: 3.7790 - mae: 3.7790\n",
      "Epoch 57/100\n",
      "1/1 [==============================] - 0s 5ms/step - loss: 3.8509 - mae: 3.8509\n",
      "Epoch 58/100\n",
      "1/1 [==============================] - 0s 6ms/step - loss: 3.7877 - mae: 3.7877\n",
      "Epoch 59/100\n",
      "1/1 [==============================] - 0s 4ms/step - loss: 3.8314 - mae: 3.8314\n",
      "Epoch 60/100\n",
      "1/1 [==============================] - 0s 4ms/step - loss: 3.8003 - mae: 3.8003\n",
      "Epoch 61/100\n",
      "1/1 [==============================] - 0s 5ms/step - loss: 3.8052 - mae: 3.8052\n",
      "Epoch 62/100\n",
      "1/1 [==============================] - 0s 5ms/step - loss: 3.8083 - mae: 3.8083\n",
      "Epoch 63/100\n",
      "1/1 [==============================] - 0s 6ms/step - loss: 3.7789 - mae: 3.7789\n",
      "Epoch 64/100\n",
      "1/1 [==============================] - 0s 4ms/step - loss: 3.8164 - mae: 3.8164\n",
      "Epoch 65/100\n",
      "1/1 [==============================] - 0s 7ms/step - loss: 3.7525 - mae: 3.7525\n",
      "Epoch 66/100\n",
      "1/1 [==============================] - 0s 5ms/step - loss: 3.8246 - mae: 3.8246\n",
      "Epoch 67/100\n",
      "1/1 [==============================] - 0s 6ms/step - loss: 3.7647 - mae: 3.7647\n",
      "Epoch 68/100\n",
      "1/1 [==============================] - 0s 5ms/step - loss: 3.8044 - mae: 3.8044\n",
      "Epoch 69/100\n",
      "1/1 [==============================] - 0s 6ms/step - loss: 3.7746 - mae: 3.7746\n",
      "Epoch 70/100\n",
      "1/1 [==============================] - 0s 5ms/step - loss: 3.7780 - mae: 3.7780\n",
      "Epoch 71/100\n",
      "1/1 [==============================] - 0s 5ms/step - loss: 3.7827 - mae: 3.7827\n",
      "Epoch 72/100\n",
      "1/1 [==============================] - 0s 6ms/step - loss: 3.7514 - mae: 3.7514\n",
      "Epoch 73/100\n",
      "1/1 [==============================] - 0s 6ms/step - loss: 3.7911 - mae: 3.7911\n",
      "Epoch 74/100\n",
      "1/1 [==============================] - 0s 5ms/step - loss: 3.7266 - mae: 3.7266\n",
      "Epoch 75/100\n",
      "1/1 [==============================] - 0s 10ms/step - loss: 3.7980 - mae: 3.7980\n",
      "Epoch 76/100\n",
      "1/1 [==============================] - 0s 5ms/step - loss: 3.7416 - mae: 3.7416\n",
      "Epoch 77/100\n",
      "1/1 [==============================] - 0s 8ms/step - loss: 3.7761 - mae: 3.7761\n",
      "Epoch 78/100\n",
      "1/1 [==============================] - 0s 5ms/step - loss: 3.7499 - mae: 3.7499\n",
      "Epoch 79/100\n",
      "1/1 [==============================] - 0s 4ms/step - loss: 3.7493 - mae: 3.7493\n",
      "Epoch 80/100\n",
      "1/1 [==============================] - 0s 6ms/step - loss: 3.7583 - mae: 3.7583\n",
      "Epoch 81/100\n",
      "1/1 [==============================] - 0s 5ms/step - loss: 3.7224 - mae: 3.7224\n",
      "Epoch 82/100\n",
      "1/1 [==============================] - 0s 5ms/step - loss: 3.7668 - mae: 3.7668\n",
      "Epoch 83/100\n",
      "1/1 [==============================] - 0s 6ms/step - loss: 3.7026 - mae: 3.7026\n",
      "Epoch 84/100\n",
      "1/1 [==============================] - 0s 6ms/step - loss: 3.7714 - mae: 3.7714\n",
      "Epoch 85/100\n",
      "1/1 [==============================] - 0s 5ms/step - loss: 3.7178 - mae: 3.7178\n",
      "Epoch 86/100\n",
      "1/1 [==============================] - 0s 6ms/step - loss: 3.7465 - mae: 3.7465\n",
      "Epoch 87/100\n",
      "1/1 [==============================] - 0s 5ms/step - loss: 3.7262 - mae: 3.7262\n",
      "Epoch 88/100\n",
      "1/1 [==============================] - 0s 5ms/step - loss: 3.7194 - mae: 3.7194\n",
      "Epoch 89/100\n",
      "1/1 [==============================] - 0s 5ms/step - loss: 3.7348 - mae: 3.7348\n",
      "Epoch 90/100\n",
      "1/1 [==============================] - 0s 5ms/step - loss: 3.6922 - mae: 3.6922\n",
      "Epoch 91/100\n",
      "1/1 [==============================] - 0s 5ms/step - loss: 3.7435 - mae: 3.7435\n",
      "Epoch 92/100\n",
      "1/1 [==============================] - 0s 6ms/step - loss: 3.6797 - mae: 3.6797\n",
      "Epoch 93/100\n",
      "1/1 [==============================] - 0s 5ms/step - loss: 3.7428 - mae: 3.7428\n",
      "Epoch 94/100\n",
      "1/1 [==============================] - 0s 6ms/step - loss: 3.6949 - mae: 3.6949\n",
      "Epoch 95/100\n",
      "1/1 [==============================] - 0s 5ms/step - loss: 3.7155 - mae: 3.7155\n",
      "Epoch 96/100\n",
      "1/1 [==============================] - 0s 4ms/step - loss: 3.7035 - mae: 3.7035\n",
      "Epoch 97/100\n",
      "1/1 [==============================] - 0s 4ms/step - loss: 3.6881 - mae: 3.6881\n",
      "Epoch 98/100\n",
      "1/1 [==============================] - 0s 5ms/step - loss: 3.7123 - mae: 3.7123\n",
      "Epoch 99/100\n",
      "1/1 [==============================] - 0s 5ms/step - loss: 3.6605 - mae: 3.6605\n",
      "Epoch 100/100\n",
      "1/1 [==============================] - 0s 5ms/step - loss: 3.7212 - mae: 3.7212\n"
     ]
    },
    {
     "data": {
      "text/plain": [
       "<keras.callbacks.History at 0x295ce21b850>"
      ]
     },
     "execution_count": 12,
     "metadata": {},
     "output_type": "execute_result"
    }
   ],
   "source": [
    "# Making some other change to get better predictions\n",
    "\n",
    "# 1. Creating the model\n",
    "model = tf.keras.Sequential([\n",
    "  tf.keras.layers.Dense(100, activation=\"relu\"),\n",
    "  tf.keras.layers.Dense(1)\n",
    "])\n",
    "\n",
    "# 2. Compiling the model\n",
    "model.compile(\n",
    "  loss=tf.keras.losses.mae,\n",
    "  metrics=[\"mae\"],\n",
    "  optimizer=tf.keras.optimizers.SGD()\n",
    ")\n",
    "\n",
    "# 3. Fitting the model\n",
    "model.fit(tf.expand_dims(X, axis=-1), y, epochs=100)"
   ]
  },
  {
   "cell_type": "code",
   "execution_count": 13,
   "metadata": {},
   "outputs": [
    {
     "name": "stdout",
     "output_type": "stream",
     "text": [
      "1/1 [==============================] - 0s 98ms/step\n"
     ]
    },
    {
     "data": {
      "text/plain": [
       "array([[32.055916]], dtype=float32)"
      ]
     },
     "execution_count": 13,
     "metadata": {},
     "output_type": "execute_result"
    }
   ],
   "source": [
    "# Predicting the data\n",
    "model.predict([17.0])"
   ]
  }
 ],
 "metadata": {
  "kernelspec": {
   "display_name": "Python 3.10.8 64-bit",
   "language": "python",
   "name": "python3"
  },
  "language_info": {
   "codemirror_mode": {
    "name": "ipython",
    "version": 3
   },
   "file_extension": ".py",
   "mimetype": "text/x-python",
   "name": "python",
   "nbconvert_exporter": "python",
   "pygments_lexer": "ipython3",
   "version": "3.10.8"
  },
  "orig_nbformat": 4,
  "vscode": {
   "interpreter": {
    "hash": "de66d7802e14fb2e8694b63e255d0fe3514f0a531cbbfb87d1ecc51a74f4db4d"
   }
  }
 },
 "nbformat": 4,
 "nbformat_minor": 2
}
